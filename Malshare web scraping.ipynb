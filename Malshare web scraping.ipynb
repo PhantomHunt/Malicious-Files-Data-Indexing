{
 "cells": [
  {
   "cell_type": "markdown",
   "metadata": {},
   "source": [
    "# Malshare Web Scraping Project"
   ]
  },
  {
   "cell_type": "markdown",
   "metadata": {},
   "source": [
    "### Malshare is a website containing record of malicious files in urls. In this project we are scraping these records using requests and BeautifulSoup libraries. After crawling the records we are dumping it to a csv file with the help of pandas dataframe"
   ]
  },
  {
   "cell_type": "code",
   "execution_count": null,
   "metadata": {},
   "outputs": [],
   "source": [
    "import requests\n",
    "from selenium import webdriver\n",
    "from bs4 import BeautifulSoup\n",
    "import pandas as pd"
   ]
  },
  {
   "cell_type": "code",
   "execution_count": null,
   "metadata": {},
   "outputs": [],
   "source": [
    "page=requests.get(\"https://malshare.com/\")        #using requests to get the malshare website\n",
    "soup=BeautifulSoup(page.content,\"html.parser\")    #Using BeautifulSoup to parse the data in the webpage\n",
    "#print(soup)"
   ]
  },
  {
   "cell_type": "code",
   "execution_count": null,
   "metadata": {},
   "outputs": [],
   "source": [
    "ourtable=soup.find(\"table\",class_=\"table table-bordered table-striped\")\n",
    "#print(ourtable.text)\n",
    "ourrows=ourtable.find_all(\"td\")\n",
    "#print(ourrows)\n",
    "mylist=[]\n",
    "\n",
    "for x in ourrows:\n",
    "    mylist.append(x.text)       #mylist contains all the records\n",
    "    \n",
    "length=len(mylist)              #Bifurcate different fields from mylist\n",
    "\n",
    "md5=[]\n",
    "ftype=[]\n",
    "add=[]\n",
    "src=[]\n",
    "yara=[]\n",
    "\n",
    "for x in range(0,length,5):\n",
    "    md5.append(mylist[x])\n",
    "\n",
    "for x in range(1,length,5):\n",
    "    ftype.append(mylist[x])\n",
    "    \n",
    "for x in range(2,length,5):\n",
    "    add.append(mylist[x])\n",
    "    \n",
    "for x in range(3,length,5):\n",
    "    src.append(mylist[x])\n",
    "\n",
    "for x in range(4,length,5):\n",
    "    yara.append(mylist[x])\n",
    "    \n",
    "maldict={    \n",
    "    \"FILE TYPE\":ftype,                         #make a dictionary from bifurcated lists and make dataframe using pandas\n",
    "    \"DATE\":add,\n",
    "    \"MD5\":md5,\n",
    "    \"URL\":src,\n",
    "    \"YARA HITS\":yara\n",
    "}\n",
    "malshare=pd.DataFrame(maldict)\n",
    "# malshare"
   ]
  },
  {
   "cell_type": "code",
   "execution_count": null,
   "metadata": {},
   "outputs": [],
   "source": [
    "import csv                                   #dump into csv file\n",
    "file=open(\"D:\\EDUCATIONAL\\CERT-In\\Malshare Project\\Malshare.csv\",\"a\")\n",
    "malshare.to_csv(file, sep=',',index=False)\n",
    "file.close()"
   ]
  },
  {
   "cell_type": "code",
   "execution_count": null,
   "metadata": {},
   "outputs": [],
   "source": [
    "f=open(\"D:\\EDUCATIONAL\\CERT-In\\Malshare Project\\Malshare.csv\",\"r\")      #Remove duplicates using md5 as primary\n",
    "y=pd.read_csv(f)\n",
    "\n",
    "y.sort_values(\"MD5\",inplace=True)\n",
    "y.drop_duplicates(subset='MD5',keep=\"first\")\n",
    "x=pd.DataFrame(y)\n",
    "f.close()\n",
    "file2=open(\"D:\\EDUCATIONAL\\CERT-In\\Malshare Project\\Malshare.csv\",\"w\")\n",
    "x.to_csv(file2, sep=',',index=False)\n",
    "file2.close()"
   ]
  }
 ],
 "metadata": {
  "kernelspec": {
   "display_name": "Python 3",
   "language": "python",
   "name": "python3"
  },
  "language_info": {
   "codemirror_mode": {
    "name": "ipython",
    "version": 3
   },
   "file_extension": ".py",
   "mimetype": "text/x-python",
   "name": "python",
   "nbconvert_exporter": "python",
   "pygments_lexer": "ipython3",
   "version": "3.7.3"
  }
 },
 "nbformat": 4,
 "nbformat_minor": 2
}
